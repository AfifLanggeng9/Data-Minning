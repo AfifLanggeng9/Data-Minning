{
  "nbformat": 4,
  "nbformat_minor": 0,
  "metadata": {
    "colab": {
      "provenance": [],
      "authorship_tag": "ABX9TyN7StxU9vFuWOoyCLsnChtS",
      "include_colab_link": true
    },
    "kernelspec": {
      "name": "python3",
      "display_name": "Python 3"
    },
    "language_info": {
      "name": "python"
    }
  },
  "cells": [
    {
      "cell_type": "markdown",
      "metadata": {
        "id": "view-in-github",
        "colab_type": "text"
      },
      "source": [
        "<a href=\"https://colab.research.google.com/github/AfifLanggeng9/Data-Minning/blob/main/Preprocessing_Data.ipynb\" target=\"_parent\"><img src=\"https://colab.research.google.com/assets/colab-badge.svg\" alt=\"Open In Colab\"/></a>"
      ]
    },
    {
      "cell_type": "code",
      "execution_count": 1,
      "metadata": {
        "id": "0EZyuRYepgJg"
      },
      "outputs": [],
      "source": [
        "import numpy as np\n",
        "import matplotlib.pyplot as plt\n",
        "import pandas as pd"
      ]
    },
    {
      "cell_type": "code",
      "source": [
        "dataset = pd.read_csv('Data.csv')"
      ],
      "metadata": {
        "id": "PeAURnYDptxA"
      },
      "execution_count": 2,
      "outputs": []
    },
    {
      "cell_type": "code",
      "source": [
        "x = dataset.iloc[:, :-1].values\n",
        "y = dataset.iloc[:, -1].values"
      ],
      "metadata": {
        "id": "03jzhdkCqGgb"
      },
      "execution_count": 3,
      "outputs": []
    },
    {
      "cell_type": "code",
      "source": [
        "print(x)"
      ],
      "metadata": {
        "colab": {
          "base_uri": "https://localhost:8080/"
        },
        "id": "WUuFjuP7qVwO",
        "outputId": "76f9da97-e9b2-4512-abd7-da164bb062f6"
      },
      "execution_count": 4,
      "outputs": [
        {
          "output_type": "stream",
          "name": "stdout",
          "text": [
            "[['Indonesia' 44.0 72000.0]\n",
            " ['Malaysia' 25.0 60000.0]\n",
            " ['Indonesia' 30.0 55000.0]\n",
            " ['Thailand' 38.0 61000.0]\n",
            " ['Thailand' 40.0 nan]\n",
            " ['Vietnam' 35.0 58000.0]\n",
            " ['Brunei' nan 52000.0]\n",
            " ['Vietnam' 48.0 79000.0]\n",
            " ['Laos' 50.0 83000.0]\n",
            " ['Singapura' 37.0 67000.0]]\n"
          ]
        }
      ]
    },
    {
      "cell_type": "code",
      "source": [
        "print(y)"
      ],
      "metadata": {
        "colab": {
          "base_uri": "https://localhost:8080/"
        },
        "id": "FN4_X5TUqaXj",
        "outputId": "8db3ea0e-53b5-4947-9ab8-8dbd671413a6"
      },
      "execution_count": 5,
      "outputs": [
        {
          "output_type": "stream",
          "name": "stdout",
          "text": [
            "['No' 'Yes' 'yes' 'No' 'Yes' 'Yes' 'No' 'Yes' 'No' 'Yes']\n"
          ]
        }
      ]
    },
    {
      "cell_type": "code",
      "source": [
        "from sklearn.impute import SimpleImputer\n",
        "imputer = SimpleImputer(missing_values=np.nan, strategy='mean')\n",
        "imputer.fit(x[:, 1:3])\n",
        "x[:, 1:3] = imputer.transform(x[:, 1:3])"
      ],
      "metadata": {
        "id": "pjy9vhWjqfiF"
      },
      "execution_count": 6,
      "outputs": []
    },
    {
      "cell_type": "code",
      "source": [
        "print(x)"
      ],
      "metadata": {
        "colab": {
          "base_uri": "https://localhost:8080/"
        },
        "id": "ka_oT6OxrLL6",
        "outputId": "e7b84f88-40c8-4207-99e6-25958a9bd4f5"
      },
      "execution_count": 7,
      "outputs": [
        {
          "output_type": "stream",
          "name": "stdout",
          "text": [
            "[['Indonesia' 44.0 72000.0]\n",
            " ['Malaysia' 25.0 60000.0]\n",
            " ['Indonesia' 30.0 55000.0]\n",
            " ['Thailand' 38.0 61000.0]\n",
            " ['Thailand' 40.0 65222.22222222222]\n",
            " ['Vietnam' 35.0 58000.0]\n",
            " ['Brunei' 38.55555555555556 52000.0]\n",
            " ['Vietnam' 48.0 79000.0]\n",
            " ['Laos' 50.0 83000.0]\n",
            " ['Singapura' 37.0 67000.0]]\n"
          ]
        }
      ]
    },
    {
      "cell_type": "code",
      "source": [
        "from sklearn.compose import  ColumnTransformer\n",
        "from sklearn.preprocessing import OneHotEncoder\n",
        "ct = ColumnTransformer(transformers=[('encoder', OneHotEncoder(), [0])], remainder='passthrough')\n",
        "x = np.array(ct.fit_transform(x))"
      ],
      "metadata": {
        "id": "5pQYZXLJrQBX"
      },
      "execution_count": 10,
      "outputs": []
    },
    {
      "cell_type": "code",
      "source": [
        "print(x)"
      ],
      "metadata": {
        "colab": {
          "base_uri": "https://localhost:8080/"
        },
        "id": "v-d-cWrjsiRU",
        "outputId": "ef157701-8784-41a3-ddaf-496662aa3841"
      },
      "execution_count": 11,
      "outputs": [
        {
          "output_type": "stream",
          "name": "stdout",
          "text": [
            "[[0.0 1.0 0.0 0.0 0.0 0.0 0.0 44.0 72000.0]\n",
            " [0.0 0.0 0.0 1.0 0.0 0.0 0.0 25.0 60000.0]\n",
            " [0.0 1.0 0.0 0.0 0.0 0.0 0.0 30.0 55000.0]\n",
            " [0.0 0.0 0.0 0.0 0.0 1.0 0.0 38.0 61000.0]\n",
            " [0.0 0.0 0.0 0.0 0.0 1.0 0.0 40.0 65222.22222222222]\n",
            " [0.0 0.0 0.0 0.0 0.0 0.0 1.0 35.0 58000.0]\n",
            " [1.0 0.0 0.0 0.0 0.0 0.0 0.0 38.55555555555556 52000.0]\n",
            " [0.0 0.0 0.0 0.0 0.0 0.0 1.0 48.0 79000.0]\n",
            " [0.0 0.0 1.0 0.0 0.0 0.0 0.0 50.0 83000.0]\n",
            " [0.0 0.0 0.0 0.0 1.0 0.0 0.0 37.0 67000.0]]\n"
          ]
        }
      ]
    },
    {
      "cell_type": "code",
      "source": [
        "from sklearn.preprocessing import LabelEncoder\n",
        "le = LabelEncoder()\n",
        "y = le.fit_transform(y)"
      ],
      "metadata": {
        "id": "GJFNNhUesrad"
      },
      "execution_count": 12,
      "outputs": []
    },
    {
      "cell_type": "code",
      "source": [
        "print(y)"
      ],
      "metadata": {
        "colab": {
          "base_uri": "https://localhost:8080/"
        },
        "id": "Xz_XmEVts556",
        "outputId": "f6f7b1a5-5395-4599-bde9-d383fd26a259"
      },
      "execution_count": 13,
      "outputs": [
        {
          "output_type": "stream",
          "name": "stdout",
          "text": [
            "[0 1 2 0 1 1 0 1 0 1]\n"
          ]
        }
      ]
    },
    {
      "cell_type": "code",
      "source": [
        "from sklearn.model_selection import train_test_split\n",
        "x_train, x_test, y_train, y_test = train_test_split(x, y, test_size=0.3, random_state = 1)"
      ],
      "metadata": {
        "id": "UqzhwNUBs-Cr"
      },
      "execution_count": 14,
      "outputs": []
    },
    {
      "cell_type": "code",
      "source": [
        "print(x_train)"
      ],
      "metadata": {
        "colab": {
          "base_uri": "https://localhost:8080/"
        },
        "id": "Oaqyn4i2tgei",
        "outputId": "2ebcf808-206c-4313-b80d-2487ba16049a"
      },
      "execution_count": 15,
      "outputs": [
        {
          "output_type": "stream",
          "name": "stdout",
          "text": [
            "[[0.0 0.0 0.0 0.0 0.0 1.0 0.0 40.0 65222.22222222222]\n",
            " [0.0 1.0 0.0 0.0 0.0 0.0 0.0 44.0 72000.0]\n",
            " [0.0 0.0 0.0 0.0 0.0 1.0 0.0 38.0 61000.0]\n",
            " [0.0 0.0 0.0 1.0 0.0 0.0 0.0 25.0 60000.0]\n",
            " [0.0 0.0 0.0 0.0 0.0 0.0 1.0 48.0 79000.0]\n",
            " [0.0 0.0 1.0 0.0 0.0 0.0 0.0 50.0 83000.0]\n",
            " [0.0 0.0 0.0 0.0 0.0 0.0 1.0 35.0 58000.0]]\n"
          ]
        }
      ]
    },
    {
      "cell_type": "code",
      "source": [
        "print(y_train)"
      ],
      "metadata": {
        "colab": {
          "base_uri": "https://localhost:8080/"
        },
        "id": "Tx3nPiR-tlB-",
        "outputId": "ae570dfb-6930-4135-fe9d-e6809969779c"
      },
      "execution_count": 16,
      "outputs": [
        {
          "output_type": "stream",
          "name": "stdout",
          "text": [
            "[1 0 0 1 1 0 1]\n"
          ]
        }
      ]
    },
    {
      "cell_type": "code",
      "source": [
        "print(y_test)"
      ],
      "metadata": {
        "colab": {
          "base_uri": "https://localhost:8080/"
        },
        "id": "RHRCxD6LtpMC",
        "outputId": "fa3879ad-8b8b-4cb9-db0f-a28189581d46"
      },
      "execution_count": 17,
      "outputs": [
        {
          "output_type": "stream",
          "name": "stdout",
          "text": [
            "[2 1 0]\n"
          ]
        }
      ]
    },
    {
      "cell_type": "code",
      "source": [
        "from sklearn.preprocessing import StandardScaler\n",
        "sc = StandardScaler()\n",
        "x_train[:, 3:] = sc.fit_transform(x_train[:, 3:])"
      ],
      "metadata": {
        "id": "LEvORxrftt4c"
      },
      "execution_count": 18,
      "outputs": []
    },
    {
      "cell_type": "code",
      "source": [
        "print(x_train)"
      ],
      "metadata": {
        "colab": {
          "base_uri": "https://localhost:8080/"
        },
        "id": "xDjqpkRVuGYA",
        "outputId": "49125a52-7248-46e5-fcb3-9c884d1d3086"
      },
      "execution_count": 19,
      "outputs": [
        {
          "output_type": "stream",
          "name": "stdout",
          "text": [
            "[[0.0 0.0 0.0 -0.40824829046386296 0.0 1.5811388300841895\n",
            "  -0.6324555320336758 0.0 -0.3394514291136119]\n",
            " [0.0 1.0 0.0 -0.40824829046386296 0.0 -0.6324555320336758\n",
            "  -0.6324555320336758 0.508000508000762 0.40386016181721807]\n",
            " [0.0 0.0 0.0 -0.40824829046386296 0.0 1.5811388300841895\n",
            "  -0.6324555320336758 -0.254000254000381 -0.8024979939557677]\n",
            " [0.0 0.0 0.0 2.4494897427831783 0.0 -0.6324555320336758\n",
            "  -0.6324555320336758 -1.9050019050028575 -0.9121669172078574]\n",
            " [0.0 0.0 0.0 -0.40824829046386296 0.0 -0.6324555320336758\n",
            "  1.5811388300841895 1.016001016001524 1.1715426245818454]\n",
            " [0.0 0.0 1.0 -0.40824829046386296 0.0 -0.6324555320336758\n",
            "  -0.6324555320336758 1.270001270001905 1.6102183175902038]\n",
            " [0.0 0.0 0.0 -0.40824829046386296 0.0 -0.6324555320336758\n",
            "  1.5811388300841895 -0.6350006350009525 -1.1315047637120366]]\n"
          ]
        }
      ]
    },
    {
      "cell_type": "code",
      "source": [
        "print(x_test)"
      ],
      "metadata": {
        "colab": {
          "base_uri": "https://localhost:8080/"
        },
        "id": "66qIgc-9uKJc",
        "outputId": "9ee3ecd7-a385-414e-e084-230deda5d4f4"
      },
      "execution_count": 20,
      "outputs": [
        {
          "output_type": "stream",
          "name": "stdout",
          "text": [
            "[[0.0 1.0 0.0 0.0 0.0 0.0 0.0 30.0 55000.0]\n",
            " [0.0 0.0 0.0 0.0 1.0 0.0 0.0 37.0 67000.0]\n",
            " [1.0 0.0 0.0 0.0 0.0 0.0 0.0 38.55555555555556 52000.0]]\n"
          ]
        }
      ]
    }
  ]
}